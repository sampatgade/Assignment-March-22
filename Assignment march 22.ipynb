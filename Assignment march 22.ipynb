{
 "cells": [
  {
   "cell_type": "markdown",
   "id": "29878b5e-3085-4326-a17c-165f80253f2f",
   "metadata": {},
   "source": [
    " Ans 1) To calculate the Pearson correlation coefficient between the amount of time students spend studying for an exam and their final exam scores, you would need to first organize your data into two lists or columns, one for the amount of time spent studying and another for the corresponding final exam score. Once you have your data, you can use a statistical software or calculator that has the capability to compute the Pearson correlation coefficient.\n",
    "\n",
    "The Pearson correlation coefficient (r) ranges from -1 to +1, where a value of -1 indicates a perfect negative linear relationship between the two variables, 0 indicates no linear relationship, and +1 indicates a perfect positive linear relationship. The closer the value of r is to -1 or +1, the stronger the linear relationship between the two variables.\n",
    "\n",
    "When interpreting the Pearson correlation coefficient, you should consider the magnitude and sign of the coefficient. A positive coefficient indicates a positive linear relationship, meaning that as the amount of time spent studying increases, so does the final exam score. Conversely, a negative coefficient indicates a negative linear relationship, meaning that as the amount of time spent studying increases, the final exam score decreases. The magnitude of the coefficient indicates the strength of the linear relationship between the two variables, with larger values indicating a stronger relationship.\n",
    "\n",
    "For example, if the Pearson correlation coefficient between the amount of time spent studying and the final exam score is 0.8, this suggests a strong positive linear relationship between the two variables. This means that students who spend more time studying tend to earn higher scores on the final exam. On the other hand, if the Pearson correlation coefficient is -0.2, this suggests a weak negative linear relationship between the two variables, indicating that students who spend more time studying tend to earn slightly lower scores on the final exam."
   ]
  },
  {
   "cell_type": "markdown",
   "id": "2e439fc1-9468-42d4-84a2-005cd38e52e1",
   "metadata": {},
   "source": [
    "Ans 2 ) Spearman's rank correlation is a measure of the monotonic relationship between two variables.\n",
    "Suppose you have collected data on the amount of sleep individuals get each night and their overall job\n",
    "satisfaction level on a scale of 1 to 10. Calculate the Spearman's rank correlation between these two\n",
    "variables and interpret the result.\n",
    "\n",
    "\n",
    "To calculate the Spearman's rank correlation between the amount of sleep individuals get each night and their overall job satisfaction level on a scale of 1 to 10, you would first need to rank each variable separately. Once you have your ranked data, you can use a statistical software or calculator that has the capability to compute the Spearman's rank correlation.\n",
    "\n",
    "The Spearman's rank correlation coefficient (rho) ranges from -1 to +1, where a value of -1 indicates a perfect negative monotonic relationship between the two variables, 0 indicates no monotonic relationship, and +1 indicates a perfect positive monotonic relationship. Unlike Pearson's correlation coefficient, the Spearman's rank correlation measures the strength and direction of the monotonic relationship, which can be either positive or negative, but not necessarily linear.\n",
    "\n",
    "When interpreting the Spearman's rank correlation coefficient, you should consider the magnitude and sign of the coefficient. A positive coefficient indicates a positive monotonic relationship, meaning that as the amount of sleep individuals get each night increases, their overall job satisfaction level tends to increase as well. Conversely, a negative coefficient indicates a negative monotonic relationship, meaning that as the amount of sleep individuals get each night increases, their overall job satisfaction level tends to decrease. The magnitude of the coefficient indicates the strength of the monotonic relationship between the two variables, with larger values indicating a stronger relationship.\n",
    "\n",
    "For example, if the Spearman's rank correlation coefficient between the amount of sleep individuals get each night and their overall job satisfaction level is 0.6, this suggests a strong positive monotonic relationship between the two variables. This means that individuals who get more sleep tend to report higher levels of job satisfaction. On the other hand, if the Spearman's rank correlation coefficient is -0.3, this suggests a weak negative monotonic relationship between the two variables, indicating that individuals who get more sleep tend to report slightly lower levels of job satisfaction."
   ]
  },
  {
   "cell_type": "code",
   "execution_count": 5,
   "id": "8e99c0fc-5015-4b12-a431-8d560a73e292",
   "metadata": {},
   "outputs": [
    {
     "name": "stdout",
     "output_type": "stream",
     "text": [
      "Pearson correlation coefficient: 0.957\n",
      "Spearman rank correlation coefficient: 0.948\n"
     ]
    }
   ],
   "source": [
    "## Ans 3)\n",
    "import pandas as pd\n",
    "import numpy as np\n",
    "from scipy.stats import pearsonr,spearmanr\n",
    "\n",
    "#create a sample data with 50 participants\n",
    "np.random.seed(123)\n",
    "hours_of_exercise = np.random.normal(5,2,50)\n",
    "bmi = 25 + 3 * hours_of_exercise + np.random.normal(0,2,50)\n",
    "\n",
    "# calculate the pearson correlation coefficient\n",
    "pearson_corr, _ = pearsonr(hours_of_exercise, bmi)\n",
    "print('Pearson correlation coefficient: %.3f' % pearson_corr)\n",
    "\n",
    "#calculate the spearman's rank correlation coefficient\n",
    "df = pd.DataFrame({'hours_of_exercise':hours_of_exercise, 'bmi':bmi})\n",
    "df['hours_of_exercise_rank'] = df['hours_of_exercise'].rank()\n",
    "df['bmi_rank'] = df['bmi'].rank()\n",
    "spearman_corr,_ = spearmanr(df['hours_of_exercise_rank'],df['bmi_rank'])\n",
    "print('Spearman rank correlation coefficient: %.3f' % spearman_corr)\n",
    "\n"
   ]
  },
  {
   "cell_type": "markdown",
   "id": "6feef1fe-1b9a-4922-a988-4f6fe0673298",
   "metadata": {},
   "source": [
    "Ans 3 ) Continue\n",
    "The Pearson correlation coefficient is calculated as 0.957 indicating a strong  linear relationship between x and y. This means that as the values in x increase, the values in y tend to increase linearly.\n",
    "\n",
    "The Spearman's rank correlation coefficient is calculated as 0.948, indicating a perfect  monotonic relationship between x and y. This means that as the values in x increase, the values in y tend to increase, but not necessarily in a linear manner.\n",
    "\n",
    "We can interpret the results as follows:\n",
    "\n",
    "The Pearson correlation coefficient of 0.957 indicates a strong  linear relationship between x and y.\n",
    "The Spearman's rank correlation coefficient of 0.948 indicates a perfect  monotonic relationship between x and y."
   ]
  },
  {
   "cell_type": "code",
   "execution_count": 6,
   "id": "2c88bd8e-1c05-4106-bcc0-5f22761c751a",
   "metadata": {},
   "outputs": [
    {
     "name": "stdout",
     "output_type": "stream",
     "text": [
      "Pearson correlation cofficient :-0.085\n"
     ]
    }
   ],
   "source": [
    "## Ans 4) \n",
    "#Generate random data for hours watching TV and Level of Physical activity\n",
    "np.random.seed(123)\n",
    "hours_tv = np.random.normal(3, 1, 50)\n",
    "activity_level = np.random.normal(5, 2, 50)\n",
    "\n",
    "#Calculate the Pearson correlation coefficient\n",
    "pearson_corr,_ = pearsonr(hours_tv, activity_level)\n",
    "\n",
    "print('Pearson correlation cofficient :%.3f' % pearson_corr)"
   ]
  },
  {
   "cell_type": "code",
   "execution_count": 9,
   "id": "3a7163ab-c20d-4876-9e59-b34120ba8c5f",
   "metadata": {},
   "outputs": [],
   "source": [
    "# Ans 5) \n",
    "import pandas as pd\n",
    "\n",
    "df = pd.DataFrame({\n",
    "    'Soft_drinks' : ['Coke', 'Pepsi', 'Mountain dew', 'Coke', 'Pepsi', 'Coke'],\n",
    "    'Age' :[25,42,37,19,31,28]\n",
    "})"
   ]
  },
  {
   "cell_type": "code",
   "execution_count": 10,
   "id": "f1d2dcf2-c57b-474b-9385-c93bb6831c0c",
   "metadata": {},
   "outputs": [
    {
     "data": {
      "text/html": [
       "<div>\n",
       "<style scoped>\n",
       "    .dataframe tbody tr th:only-of-type {\n",
       "        vertical-align: middle;\n",
       "    }\n",
       "\n",
       "    .dataframe tbody tr th {\n",
       "        vertical-align: top;\n",
       "    }\n",
       "\n",
       "    .dataframe thead th {\n",
       "        text-align: right;\n",
       "    }\n",
       "</style>\n",
       "<table border=\"1\" class=\"dataframe\">\n",
       "  <thead>\n",
       "    <tr style=\"text-align: right;\">\n",
       "      <th></th>\n",
       "      <th>Soft_drinks</th>\n",
       "      <th>Age</th>\n",
       "    </tr>\n",
       "  </thead>\n",
       "  <tbody>\n",
       "    <tr>\n",
       "      <th>0</th>\n",
       "      <td>Coke</td>\n",
       "      <td>25</td>\n",
       "    </tr>\n",
       "    <tr>\n",
       "      <th>1</th>\n",
       "      <td>Pepsi</td>\n",
       "      <td>42</td>\n",
       "    </tr>\n",
       "    <tr>\n",
       "      <th>2</th>\n",
       "      <td>Mountain dew</td>\n",
       "      <td>37</td>\n",
       "    </tr>\n",
       "    <tr>\n",
       "      <th>3</th>\n",
       "      <td>Coke</td>\n",
       "      <td>19</td>\n",
       "    </tr>\n",
       "    <tr>\n",
       "      <th>4</th>\n",
       "      <td>Pepsi</td>\n",
       "      <td>31</td>\n",
       "    </tr>\n",
       "    <tr>\n",
       "      <th>5</th>\n",
       "      <td>Coke</td>\n",
       "      <td>28</td>\n",
       "    </tr>\n",
       "  </tbody>\n",
       "</table>\n",
       "</div>"
      ],
      "text/plain": [
       "    Soft_drinks  Age\n",
       "0          Coke   25\n",
       "1         Pepsi   42\n",
       "2  Mountain dew   37\n",
       "3          Coke   19\n",
       "4         Pepsi   31\n",
       "5          Coke   28"
      ]
     },
     "execution_count": 10,
     "metadata": {},
     "output_type": "execute_result"
    }
   ],
   "source": [
    "df"
   ]
  },
  {
   "cell_type": "code",
   "execution_count": 12,
   "id": "e0e69ab6-5184-41f3-b91e-74a9efd7b031",
   "metadata": {},
   "outputs": [
    {
     "data": {
      "text/plain": [
       "{'Coke': 24.0, 'Mountain dew': 37.0, 'Pepsi': 36.5}"
      ]
     },
     "execution_count": 12,
     "metadata": {},
     "output_type": "execute_result"
    }
   ],
   "source": [
    "## Calculate the mean price from softdrinks\n",
    "mean_price = df.groupby('Soft_drinks')['Age'].mean().to_dict()\n",
    "mean_price"
   ]
  },
  {
   "cell_type": "code",
   "execution_count": 13,
   "id": "71304d6a-ef18-4c8e-9528-b3eb915004d9",
   "metadata": {},
   "outputs": [],
   "source": [
    "df['Soft_encoded']=df['Soft_drinks'].map(mean_price)"
   ]
  },
  {
   "cell_type": "code",
   "execution_count": 14,
   "id": "240ea54f-6f65-415e-93c4-ee94a3d86787",
   "metadata": {},
   "outputs": [
    {
     "data": {
      "text/html": [
       "<div>\n",
       "<style scoped>\n",
       "    .dataframe tbody tr th:only-of-type {\n",
       "        vertical-align: middle;\n",
       "    }\n",
       "\n",
       "    .dataframe tbody tr th {\n",
       "        vertical-align: top;\n",
       "    }\n",
       "\n",
       "    .dataframe thead th {\n",
       "        text-align: right;\n",
       "    }\n",
       "</style>\n",
       "<table border=\"1\" class=\"dataframe\">\n",
       "  <thead>\n",
       "    <tr style=\"text-align: right;\">\n",
       "      <th></th>\n",
       "      <th>Soft_drinks</th>\n",
       "      <th>Age</th>\n",
       "      <th>Soft_encoded</th>\n",
       "    </tr>\n",
       "  </thead>\n",
       "  <tbody>\n",
       "    <tr>\n",
       "      <th>0</th>\n",
       "      <td>Coke</td>\n",
       "      <td>25</td>\n",
       "      <td>24.0</td>\n",
       "    </tr>\n",
       "    <tr>\n",
       "      <th>1</th>\n",
       "      <td>Pepsi</td>\n",
       "      <td>42</td>\n",
       "      <td>36.5</td>\n",
       "    </tr>\n",
       "    <tr>\n",
       "      <th>2</th>\n",
       "      <td>Mountain dew</td>\n",
       "      <td>37</td>\n",
       "      <td>37.0</td>\n",
       "    </tr>\n",
       "    <tr>\n",
       "      <th>3</th>\n",
       "      <td>Coke</td>\n",
       "      <td>19</td>\n",
       "      <td>24.0</td>\n",
       "    </tr>\n",
       "    <tr>\n",
       "      <th>4</th>\n",
       "      <td>Pepsi</td>\n",
       "      <td>31</td>\n",
       "      <td>36.5</td>\n",
       "    </tr>\n",
       "    <tr>\n",
       "      <th>5</th>\n",
       "      <td>Coke</td>\n",
       "      <td>28</td>\n",
       "      <td>24.0</td>\n",
       "    </tr>\n",
       "  </tbody>\n",
       "</table>\n",
       "</div>"
      ],
      "text/plain": [
       "    Soft_drinks  Age  Soft_encoded\n",
       "0          Coke   25          24.0\n",
       "1         Pepsi   42          36.5\n",
       "2  Mountain dew   37          37.0\n",
       "3          Coke   19          24.0\n",
       "4         Pepsi   31          36.5\n",
       "5          Coke   28          24.0"
      ]
     },
     "execution_count": 14,
     "metadata": {},
     "output_type": "execute_result"
    }
   ],
   "source": [
    "df"
   ]
  },
  {
   "cell_type": "code",
   "execution_count": null,
   "id": "b54e0be2-a7a3-4b5a-8ab5-c20b7f299c09",
   "metadata": {},
   "outputs": [],
   "source": []
  }
 ],
 "metadata": {
  "kernelspec": {
   "display_name": "Python 3 (ipykernel)",
   "language": "python",
   "name": "python3"
  },
  "language_info": {
   "codemirror_mode": {
    "name": "ipython",
    "version": 3
   },
   "file_extension": ".py",
   "mimetype": "text/x-python",
   "name": "python",
   "nbconvert_exporter": "python",
   "pygments_lexer": "ipython3",
   "version": "3.10.8"
  }
 },
 "nbformat": 4,
 "nbformat_minor": 5
}
